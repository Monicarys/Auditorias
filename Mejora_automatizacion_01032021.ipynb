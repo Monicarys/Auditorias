{
  "nbformat": 4,
  "nbformat_minor": 0,
  "metadata": {
    "colab": {
      "name": "Mejora_automatizacion_01032021.ipynb",
      "provenance": [],
      "mount_file_id": "1pJPxOyP-qePllrFdIsbvPDfTThOkgHzy",
      "authorship_tag": "ABX9TyOlRCGxog9m64khXL5Mgub4",
      "include_colab_link": true
    },
    "kernelspec": {
      "name": "python3",
      "display_name": "Python 3"
    },
    "language_info": {
      "name": "python"
    }
  },
  "cells": [
    {
      "cell_type": "markdown",
      "metadata": {
        "id": "view-in-github",
        "colab_type": "text"
      },
      "source": [
        "<a href=\"https://colab.research.google.com/github/Monicarys/Auditorias/blob/main/Mejora_automatizacion_01032021.ipynb\" target=\"_parent\"><img src=\"https://colab.research.google.com/assets/colab-badge.svg\" alt=\"Open In Colab\"/></a>"
      ]
    },
    {
      "cell_type": "code",
      "execution_count": 1,
      "metadata": {
        "id": "q5lhEzPoI-D7"
      },
      "outputs": [],
      "source": [
        "import pandas as pd\n",
        "import numpy as np\n",
        "import os"
      ]
    },
    {
      "cell_type": "code",
      "source": [
        "#Muestra los archivos\n",
        "os.listdir()"
      ],
      "metadata": {
        "colab": {
          "base_uri": "https://localhost:8080/"
        },
        "id": "nJwzT4cMJRi7",
        "outputId": "c759dd3e-e597-4407-f0ec-3194ce2a5661"
      },
      "execution_count": 4,
      "outputs": [
        {
          "output_type": "execute_result",
          "data": {
            "text/plain": [
              "['.config', 'D_AcambaydeRuízCastañeda.xlsm', 'D_Lerma.xlsm', 'sample_data']"
            ]
          },
          "metadata": {},
          "execution_count": 4
        }
      ]
    },
    {
      "cell_type": "code",
      "execution_count": 20,
      "metadata": {
        "colab": {
          "base_uri": "https://localhost:8080/"
        },
        "id": "hUND91KUe6cm",
        "outputId": "0c71c904-a811-4b6a-8a4c-8f31b893a564"
      },
      "outputs": [
        {
          "output_type": "execute_result",
          "data": {
            "text/plain": [
              "['D_AcambaydeRuízCastañeda.xlsm', 'D_Lerma.xlsm']"
            ]
          },
          "metadata": {},
          "execution_count": 20
        }
      ],
      "source": [
        "#Hacemos una lista de los archivos con terminacion .xlsm\n",
        "archivos=[file for file in os.listdir() if \".xlsm\" in file]\n",
        "archivos"
      ]
    },
    {
      "cell_type": "code",
      "source": [
        "#Definimos la siguiente funcion\n",
        "#Esta nos dice el total de veces que se repite una palabra en un data frame X\n",
        "def contar(X,palabra):\n",
        "  repeticiones=(X==palabra).sum().sum()\n",
        "  return repeticiones"
      ],
      "metadata": {
        "id": "0Opjq4R0JdZK"
      },
      "execution_count": 55,
      "outputs": []
    },
    {
      "cell_type": "code",
      "source": [
        "#La siguiente funcion nos dice el nombre de la variable del modulo\n",
        "def nombre_modulo(M):\n",
        "  vnames = [name for name in globals() if globals()[name] is M][0]\n",
        "  return vnames\n",
        "nombre_modulo(M1)"
      ],
      "metadata": {
        "colab": {
          "base_uri": "https://localhost:8080/",
          "height": 36
        },
        "id": "KIQl82P9ZdQd",
        "outputId": "a9c4b01a-d3ec-47f8-f55f-1ca11619e59a"
      },
      "execution_count": 53,
      "outputs": [
        {
          "output_type": "execute_result",
          "data": {
            "application/vnd.google.colaboratory.intrinsic+json": {
              "type": "string"
            },
            "text/plain": [
              "'M1'"
            ]
          },
          "metadata": {},
          "execution_count": 53
        }
      ]
    },
    {
      "cell_type": "code",
      "source": [
        "#Esta funcion nos indicara los meses de cada modulo 'X'\n",
        "def modulo_mensual(X,mes):\n",
        "  if mes== 'octubre':\n",
        "    z=X.iloc[:,[0,1,2]]\n",
        "  elif mes== 'noviembre':\n",
        "    z=X.iloc[:,[3,4,5]]\n",
        "  elif mes== 'diciembre':\n",
        "    z=X.iloc[:,[6,7,8]]\n",
        "  return z\n"
      ],
      "metadata": {
        "id": "y-boWpemLIya"
      },
      "execution_count": 13,
      "outputs": []
    },
    {
      "cell_type": "code",
      "source": [
        "#La siguiente función nos indicara en una lista la informacion de los archivos y modulos de la siguiente manera:\n",
        "# my_columns=['Entidad', 'Tipo', 'Modulo', 'Total de si', 'Total de no', 'Pocentaje de cumplimiento en octubre', 'Porcentaje de cumplimiento en noviembre', 'porcentaje de cumplimiento en diciembre', 'porcentaje de cumplimiento trimestral']\n",
        "\n",
        "def info_modulo(M, archivo):\n",
        "  info= np.array([[(str(archivo)[:-5])[2:],\n",
        "                         (str(archivo)[:1]),\n",
        "                         nombre_modulo(M),\n",
        "                         contar(M,'si'),\n",
        "                         contar(M,'no'),\n",
        "                         contar(modulo_mensual(M,'octubre'), 'si') / (contar(modulo_mensual(M,'octubre'), 'si')+contar(modulo_mensual(M,'octubre'), 'no'))*100,\n",
        "                         contar(modulo_mensual(M,'noviembre'), 'si') / (contar(modulo_mensual(M,'noviembre'), 'si')+contar(modulo_mensual(M,'noviembre'), 'no'))*100,\n",
        "                         contar(modulo_mensual(M,'diciembre'), 'si') / (contar(modulo_mensual(M,'diciembre'), 'si')+contar(modulo_mensual(M,'diciembre'), 'no'))*100,\n",
        "                         contar(M, 'si') / (contar(M, 'si')+contar(M, 'no'))*100\n",
        "                        ]])\n",
        "  return info"
      ],
      "metadata": {
        "id": "A3JFXJRjLR8w"
      },
      "execution_count": 79,
      "outputs": []
    },
    {
      "cell_type": "code",
      "source": [
        "#Vamos haciendo la estructura de nuestro dataframe\n",
        "#Definimos los encabezados de las columnas\n",
        "my_columns=['Entidad', 'Tipo', 'Modulo', 'Total de si', 'Total de no', 'Pocentaje de cumplimiento en octubre', 'Porcentaje de cumplimiento en noviembre', 'porcentaje de cumplimiento en diciembre', 'porcentaje de cumplimiento trimesttral']\n",
        "#definimos nuestra primer fila como vacia \n",
        "my_data = np.array([['','','','','','','','','' ]])\n",
        "\n",
        "\n",
        "for archivo in archivos:\n",
        "  df=pd.read_excel(archivo)\n",
        "  M1=df.iloc[11:49, 6:15] \n",
        "  M2=df.iloc[58:81, 6:15]\n",
        "  M3=df.iloc[89:98, 6:15]\n",
        "  M4=df.iloc[106:128, 6:15]\n",
        "\n",
        "  modulos=[M1,M2,M3,M4]\n",
        "  for moduloski in modulos:\n",
        "    #Vamos agregando cada fila con la informacion de cada modulo\n",
        "    my_data=np.append (my_data, info_modulo(moduloski,archivo), axis = 0)\n",
        "\n",
        "\n",
        "#Ya que tenemos nuestro array 'my_data', lo convertimos a un data fram\n",
        "my_dataframe = pd.DataFrame(data=my_data, columns=my_columns)\n",
        "my_dataframe\n"
      ],
      "metadata": {
        "colab": {
          "base_uri": "https://localhost:8080/",
          "height": 540
        },
        "id": "BIESPdLyOo2J",
        "outputId": "8e5373d9-61a4-4cc8-8304-4a3a8dd3d26e"
      },
      "execution_count": 82,
      "outputs": [
        {
          "output_type": "stream",
          "name": "stderr",
          "text": [
            "/usr/local/lib/python3.7/dist-packages/openpyxl/worksheet/_reader.py:312: UserWarning: Data Validation extension is not supported and will be removed\n",
            "  warn(msg)\n",
            "/usr/local/lib/python3.7/dist-packages/ipykernel_launcher.py:11: RuntimeWarning: invalid value encountered in long_scalars\n",
            "  # This is added back by InteractiveShellApp.init_path()\n",
            "/usr/local/lib/python3.7/dist-packages/ipykernel_launcher.py:12: RuntimeWarning: invalid value encountered in long_scalars\n",
            "  if sys.path[0] == '':\n",
            "/usr/local/lib/python3.7/dist-packages/ipykernel_launcher.py:10: RuntimeWarning: invalid value encountered in long_scalars\n",
            "  # Remove the CWD from sys.path while we load stuff.\n"
          ]
        },
        {
          "output_type": "execute_result",
          "data": {
            "text/html": [
              "\n",
              "  <div id=\"df-8fa65318-3630-410b-b45f-4980a6925f3a\">\n",
              "    <div class=\"colab-df-container\">\n",
              "      <div>\n",
              "<style scoped>\n",
              "    .dataframe tbody tr th:only-of-type {\n",
              "        vertical-align: middle;\n",
              "    }\n",
              "\n",
              "    .dataframe tbody tr th {\n",
              "        vertical-align: top;\n",
              "    }\n",
              "\n",
              "    .dataframe thead th {\n",
              "        text-align: right;\n",
              "    }\n",
              "</style>\n",
              "<table border=\"1\" class=\"dataframe\">\n",
              "  <thead>\n",
              "    <tr style=\"text-align: right;\">\n",
              "      <th></th>\n",
              "      <th>Entidad</th>\n",
              "      <th>Tipo</th>\n",
              "      <th>Modulo</th>\n",
              "      <th>Total de si</th>\n",
              "      <th>Total de no</th>\n",
              "      <th>Pocentaje de cumplimiento en octubre</th>\n",
              "      <th>Porcentaje de cumplimiento en noviembre</th>\n",
              "      <th>porcentaje de cumplimiento en diciembre</th>\n",
              "      <th>porcentaje de cumplimiento trimesttral</th>\n",
              "    </tr>\n",
              "  </thead>\n",
              "  <tbody>\n",
              "    <tr>\n",
              "      <th>0</th>\n",
              "      <td></td>\n",
              "      <td></td>\n",
              "      <td></td>\n",
              "      <td></td>\n",
              "      <td></td>\n",
              "      <td></td>\n",
              "      <td></td>\n",
              "      <td></td>\n",
              "      <td></td>\n",
              "    </tr>\n",
              "    <tr>\n",
              "      <th>1</th>\n",
              "      <td>AcambaydeRuízCastañeda</td>\n",
              "      <td>D</td>\n",
              "      <td>M1</td>\n",
              "      <td>35</td>\n",
              "      <td>26</td>\n",
              "      <td>70.0</td>\n",
              "      <td>50.0</td>\n",
              "      <td>52.38095238095239</td>\n",
              "      <td>57.377049180327866</td>\n",
              "    </tr>\n",
              "    <tr>\n",
              "      <th>2</th>\n",
              "      <td>AcambaydeRuízCastañeda</td>\n",
              "      <td>D</td>\n",
              "      <td>M2</td>\n",
              "      <td>1</td>\n",
              "      <td>1</td>\n",
              "      <td>50.0</td>\n",
              "      <td>nan</td>\n",
              "      <td>nan</td>\n",
              "      <td>50.0</td>\n",
              "    </tr>\n",
              "    <tr>\n",
              "      <th>3</th>\n",
              "      <td>AcambaydeRuízCastañeda</td>\n",
              "      <td>D</td>\n",
              "      <td>M3</td>\n",
              "      <td>2</td>\n",
              "      <td>1</td>\n",
              "      <td>nan</td>\n",
              "      <td>nan</td>\n",
              "      <td>66.66666666666666</td>\n",
              "      <td>66.66666666666666</td>\n",
              "    </tr>\n",
              "    <tr>\n",
              "      <th>4</th>\n",
              "      <td>AcambaydeRuízCastañeda</td>\n",
              "      <td>D</td>\n",
              "      <td>M4</td>\n",
              "      <td>2</td>\n",
              "      <td>2</td>\n",
              "      <td>nan</td>\n",
              "      <td>nan</td>\n",
              "      <td>50.0</td>\n",
              "      <td>50.0</td>\n",
              "    </tr>\n",
              "    <tr>\n",
              "      <th>5</th>\n",
              "      <td>Lerma</td>\n",
              "      <td>D</td>\n",
              "      <td>M1</td>\n",
              "      <td>28</td>\n",
              "      <td>28</td>\n",
              "      <td>50.0</td>\n",
              "      <td>50.0</td>\n",
              "      <td>50.0</td>\n",
              "      <td>50.0</td>\n",
              "    </tr>\n",
              "    <tr>\n",
              "      <th>6</th>\n",
              "      <td>Lerma</td>\n",
              "      <td>D</td>\n",
              "      <td>M2</td>\n",
              "      <td>5</td>\n",
              "      <td>6</td>\n",
              "      <td>50.0</td>\n",
              "      <td>40.0</td>\n",
              "      <td>50.0</td>\n",
              "      <td>45.45454545454545</td>\n",
              "    </tr>\n",
              "    <tr>\n",
              "      <th>7</th>\n",
              "      <td>Lerma</td>\n",
              "      <td>D</td>\n",
              "      <td>M3</td>\n",
              "      <td>1</td>\n",
              "      <td>3</td>\n",
              "      <td>nan</td>\n",
              "      <td>nan</td>\n",
              "      <td>25.0</td>\n",
              "      <td>25.0</td>\n",
              "    </tr>\n",
              "    <tr>\n",
              "      <th>8</th>\n",
              "      <td>Lerma</td>\n",
              "      <td>D</td>\n",
              "      <td>M4</td>\n",
              "      <td>3</td>\n",
              "      <td>3</td>\n",
              "      <td>nan</td>\n",
              "      <td>nan</td>\n",
              "      <td>50.0</td>\n",
              "      <td>50.0</td>\n",
              "    </tr>\n",
              "  </tbody>\n",
              "</table>\n",
              "</div>\n",
              "      <button class=\"colab-df-convert\" onclick=\"convertToInteractive('df-8fa65318-3630-410b-b45f-4980a6925f3a')\"\n",
              "              title=\"Convert this dataframe to an interactive table.\"\n",
              "              style=\"display:none;\">\n",
              "        \n",
              "  <svg xmlns=\"http://www.w3.org/2000/svg\" height=\"24px\"viewBox=\"0 0 24 24\"\n",
              "       width=\"24px\">\n",
              "    <path d=\"M0 0h24v24H0V0z\" fill=\"none\"/>\n",
              "    <path d=\"M18.56 5.44l.94 2.06.94-2.06 2.06-.94-2.06-.94-.94-2.06-.94 2.06-2.06.94zm-11 1L8.5 8.5l.94-2.06 2.06-.94-2.06-.94L8.5 2.5l-.94 2.06-2.06.94zm10 10l.94 2.06.94-2.06 2.06-.94-2.06-.94-.94-2.06-.94 2.06-2.06.94z\"/><path d=\"M17.41 7.96l-1.37-1.37c-.4-.4-.92-.59-1.43-.59-.52 0-1.04.2-1.43.59L10.3 9.45l-7.72 7.72c-.78.78-.78 2.05 0 2.83L4 21.41c.39.39.9.59 1.41.59.51 0 1.02-.2 1.41-.59l7.78-7.78 2.81-2.81c.8-.78.8-2.07 0-2.86zM5.41 20L4 18.59l7.72-7.72 1.47 1.35L5.41 20z\"/>\n",
              "  </svg>\n",
              "      </button>\n",
              "      \n",
              "  <style>\n",
              "    .colab-df-container {\n",
              "      display:flex;\n",
              "      flex-wrap:wrap;\n",
              "      gap: 12px;\n",
              "    }\n",
              "\n",
              "    .colab-df-convert {\n",
              "      background-color: #E8F0FE;\n",
              "      border: none;\n",
              "      border-radius: 50%;\n",
              "      cursor: pointer;\n",
              "      display: none;\n",
              "      fill: #1967D2;\n",
              "      height: 32px;\n",
              "      padding: 0 0 0 0;\n",
              "      width: 32px;\n",
              "    }\n",
              "\n",
              "    .colab-df-convert:hover {\n",
              "      background-color: #E2EBFA;\n",
              "      box-shadow: 0px 1px 2px rgba(60, 64, 67, 0.3), 0px 1px 3px 1px rgba(60, 64, 67, 0.15);\n",
              "      fill: #174EA6;\n",
              "    }\n",
              "\n",
              "    [theme=dark] .colab-df-convert {\n",
              "      background-color: #3B4455;\n",
              "      fill: #D2E3FC;\n",
              "    }\n",
              "\n",
              "    [theme=dark] .colab-df-convert:hover {\n",
              "      background-color: #434B5C;\n",
              "      box-shadow: 0px 1px 3px 1px rgba(0, 0, 0, 0.15);\n",
              "      filter: drop-shadow(0px 1px 2px rgba(0, 0, 0, 0.3));\n",
              "      fill: #FFFFFF;\n",
              "    }\n",
              "  </style>\n",
              "\n",
              "      <script>\n",
              "        const buttonEl =\n",
              "          document.querySelector('#df-8fa65318-3630-410b-b45f-4980a6925f3a button.colab-df-convert');\n",
              "        buttonEl.style.display =\n",
              "          google.colab.kernel.accessAllowed ? 'block' : 'none';\n",
              "\n",
              "        async function convertToInteractive(key) {\n",
              "          const element = document.querySelector('#df-8fa65318-3630-410b-b45f-4980a6925f3a');\n",
              "          const dataTable =\n",
              "            await google.colab.kernel.invokeFunction('convertToInteractive',\n",
              "                                                     [key], {});\n",
              "          if (!dataTable) return;\n",
              "\n",
              "          const docLinkHtml = 'Like what you see? Visit the ' +\n",
              "            '<a target=\"_blank\" href=https://colab.research.google.com/notebooks/data_table.ipynb>data table notebook</a>'\n",
              "            + ' to learn more about interactive tables.';\n",
              "          element.innerHTML = '';\n",
              "          dataTable['output_type'] = 'display_data';\n",
              "          await google.colab.output.renderOutput(dataTable, element);\n",
              "          const docLink = document.createElement('div');\n",
              "          docLink.innerHTML = docLinkHtml;\n",
              "          element.appendChild(docLink);\n",
              "        }\n",
              "      </script>\n",
              "    </div>\n",
              "  </div>\n",
              "  "
            ],
            "text/plain": [
              "                  Entidad  ... porcentaje de cumplimiento trimesttral\n",
              "0                          ...                                       \n",
              "1  AcambaydeRuízCastañeda  ...                     57.377049180327866\n",
              "2  AcambaydeRuízCastañeda  ...                                   50.0\n",
              "3  AcambaydeRuízCastañeda  ...                      66.66666666666666\n",
              "4  AcambaydeRuízCastañeda  ...                                   50.0\n",
              "5                   Lerma  ...                                   50.0\n",
              "6                   Lerma  ...                      45.45454545454545\n",
              "7                   Lerma  ...                                   25.0\n",
              "8                   Lerma  ...                                   50.0\n",
              "\n",
              "[9 rows x 9 columns]"
            ]
          },
          "metadata": {},
          "execution_count": 82
        }
      ]
    },
    {
      "cell_type": "code",
      "source": [
        "#Por ultimo exportamos a una tabla de excel \n",
        "#exportamos la tabla a un exel \n",
        "my_dataframe.to_excel(r'/content/Resultados.xlsx', index = False)"
      ],
      "metadata": {
        "id": "E6HWgO-ReGC_"
      },
      "execution_count": 85,
      "outputs": []
    },
    {
      "cell_type": "code",
      "source": [
        ""
      ],
      "metadata": {
        "id": "1YQD4b6ue4XH"
      },
      "execution_count": null,
      "outputs": []
    }
  ]
}